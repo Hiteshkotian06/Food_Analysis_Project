{
 "cells": [
  {
   "cell_type": "code",
   "execution_count": null,
   "metadata": {},
   "outputs": [
    {
     "ename": "",
     "evalue": "",
     "output_type": "error",
     "traceback": [
      "\u001b[1;31mFailed to start the Kernel. \n",
      "\u001b[1;31mUnable to start Kernel 'Python 3.12.1' due to a timeout waiting for the ports to get used. \n",
      "\u001b[1;31mView Jupyter <a href='command:jupyter.viewOutput'>log</a> for further details."
     ]
    }
   ],
   "source": [
    "import pandas as pd\n",
    "import numpy as np\n",
    "import matplotlib.pyplot as plt\n",
    "import seaborn as sn\n",
    "import plotly.express as px\n",
    "import plotly.graph_objects as go\n",
    "from plotly.subplots import make_subplots\n",
    "import matplotlib_inline"
   ]
  },
  {
   "cell_type": "code",
   "execution_count": null,
   "metadata": {},
   "outputs": [
    {
     "ename": "",
     "evalue": "",
     "output_type": "error",
     "traceback": [
      "\u001b[1;31mFailed to start the Kernel. \n",
      "\u001b[1;31mUnable to start Kernel 'Python 3.12.1' due to a timeout waiting for the ports to get used. \n",
      "\u001b[1;31mView Jupyter <a href='command:jupyter.viewOutput'>log</a> for further details."
     ]
    }
   ],
   "source": [
    "Nutrients = pd.read_csv(r\"C:\\Users\\HITESH KOTIAN\\OneDrive\\Desktop\\Project\\Food_csv\\nutrients_csvfile.csv\")\n",
    "Nutrients.head()"
   ]
  },
  {
   "cell_type": "code",
   "execution_count": null,
   "metadata": {},
   "outputs": [
    {
     "ename": "",
     "evalue": "",
     "output_type": "error",
     "traceback": [
      "\u001b[1;31mFailed to start the Kernel. \n",
      "\u001b[1;31mUnable to start Kernel 'Python 3.12.1' due to a timeout waiting for the ports to get used. \n",
      "\u001b[1;31mView Jupyter <a href='command:jupyter.viewOutput'>log</a> for further details."
     ]
    }
   ],
   "source": [
    "# To remove t and put 0\n",
    "Nutrients = Nutrients.replace(\"t\",0)\n",
    "Nutrients = Nutrients.replace(\"t'\",0)\n",
    "Nutrients['Fiber'] = Nutrients[\"Fiber\"].replace(\"a\",0)"
   ]
  },
  {
   "cell_type": "code",
   "execution_count": null,
   "metadata": {},
   "outputs": [
    {
     "ename": "",
     "evalue": "",
     "output_type": "error",
     "traceback": [
      "\u001b[1;31mFailed to start the Kernel. \n",
      "\u001b[1;31mUnable to start Kernel 'Python 3.12.1' due to a timeout waiting for the ports to get used. \n",
      "\u001b[1;31mView Jupyter <a href='command:jupyter.viewOutput'>log</a> for further details."
     ]
    }
   ],
   "source": [
    "Nutrients.dtypes"
   ]
  },
  {
   "cell_type": "code",
   "execution_count": null,
   "metadata": {},
   "outputs": [
    {
     "ename": "",
     "evalue": "",
     "output_type": "error",
     "traceback": [
      "\u001b[1;31mFailed to start the Kernel. \n",
      "\u001b[1;31mUnable to start Kernel 'Python 3.12.1' due to a timeout waiting for the ports to get used. \n",
      "\u001b[1;31mView Jupyter <a href='command:jupyter.viewOutput'>log</a> for further details."
     ]
    }
   ],
   "source": [
    "Nutrients = Nutrients.replace(\",\", \"\", regex= True)\n",
    "Nutrients.head()"
   ]
  },
  {
   "cell_type": "code",
   "execution_count": null,
   "metadata": {},
   "outputs": [
    {
     "ename": "",
     "evalue": "",
     "output_type": "error",
     "traceback": [
      "\u001b[1;31mFailed to start the Kernel. \n",
      "\u001b[1;31mUnable to start Kernel 'Python 3.12.1' due to a timeout waiting for the ports to get used. \n",
      "\u001b[1;31mView Jupyter <a href='command:jupyter.viewOutput'>log</a> for further details."
     ]
    }
   ],
   "source": [
    "# 'Calories' [91] have value 8-44 for this take a mean\n",
    "Nutrients['Calories'][91] = (8+44)/2 "
   ]
  },
  {
   "cell_type": "code",
   "execution_count": null,
   "metadata": {},
   "outputs": [
    {
     "ename": "",
     "evalue": "",
     "output_type": "error",
     "traceback": [
      "\u001b[1;31mFailed to start the Kernel. \n",
      "\u001b[1;31mUnable to start Kernel 'Python 3.12.1' due to a timeout waiting for the ports to get used. \n",
      "\u001b[1;31mView Jupyter <a href='command:jupyter.viewOutput'>log</a> for further details."
     ]
    }
   ],
   "source": [
    "Nutrients['Grams'] = pd.to_numeric(Nutrients['Grams'])\n",
    "Nutrients['Calories'] = pd.to_numeric(Nutrients['Calories'])\n",
    "Nutrients['Protein']   = pd.to_numeric(Nutrients['Protein'])\n",
    "Nutrients['Fat']   = pd.to_numeric(Nutrients['Fat'])\n",
    "Nutrients['Sat.Fat']   = pd.to_numeric(Nutrients['Sat.Fat'])\n",
    "Nutrients['Fiber']   = pd.to_numeric(Nutrients['Fiber'])\n",
    "Nutrients['Carbs']   = pd.to_numeric(Nutrients['Carbs'])\n",
    "Nutrients.dtypes"
   ]
  },
  {
   "cell_type": "code",
   "execution_count": null,
   "metadata": {},
   "outputs": [
    {
     "ename": "",
     "evalue": "",
     "output_type": "error",
     "traceback": [
      "\u001b[1;31mFailed to start the Kernel. \n",
      "\u001b[1;31mUnable to start Kernel 'Python 3.12.1' due to a timeout waiting for the ports to get used. \n",
      "\u001b[1;31mView Jupyter <a href='command:jupyter.viewOutput'>log</a> for further details."
     ]
    }
   ],
   "source": [
    "# To check null\n",
    "sn.heatmap(Nutrients.isnull())"
   ]
  },
  {
   "cell_type": "code",
   "execution_count": null,
   "metadata": {},
   "outputs": [
    {
     "ename": "",
     "evalue": "",
     "output_type": "error",
     "traceback": [
      "\u001b[1;31mFailed to start the Kernel. \n",
      "\u001b[1;31mUnable to start Kernel 'Python 3.12.1' due to a timeout waiting for the ports to get used. \n",
      "\u001b[1;31mView Jupyter <a href='command:jupyter.viewOutput'>log</a> for further details."
     ]
    }
   ],
   "source": [
    "Nutrients = Nutrients.dropna()"
   ]
  },
  {
   "cell_type": "code",
   "execution_count": null,
   "metadata": {},
   "outputs": [
    {
     "ename": "",
     "evalue": "",
     "output_type": "error",
     "traceback": [
      "\u001b[1;31mFailed to start the Kernel. \n",
      "\u001b[1;31mUnable to start Kernel 'Python 3.12.1' due to a timeout waiting for the ports to get used. \n",
      "\u001b[1;31mView Jupyter <a href='command:jupyter.viewOutput'>log</a> for further details."
     ]
    }
   ],
   "source": [
    "Nutrients.describe()"
   ]
  },
  {
   "cell_type": "markdown",
   "metadata": {},
   "source": [
    "### Food vs Macronutrients"
   ]
  },
  {
   "cell_type": "code",
   "execution_count": null,
   "metadata": {},
   "outputs": [
    {
     "ename": "",
     "evalue": "",
     "output_type": "error",
     "traceback": [
      "\u001b[1;31mFailed to start the Kernel. \n",
      "\u001b[1;31mUnable to start Kernel 'Python 3.12.1' due to a timeout waiting for the ports to get used. \n",
      "\u001b[1;31mView Jupyter <a href='command:jupyter.viewOutput'>log</a> for further details."
     ]
    }
   ],
   "source": [
    "Nutrients['Category'].value_counts()"
   ]
  },
  {
   "cell_type": "code",
   "execution_count": null,
   "metadata": {},
   "outputs": [
    {
     "ename": "",
     "evalue": "",
     "output_type": "error",
     "traceback": [
      "\u001b[1;31mFailed to start the Kernel. \n",
      "\u001b[1;31mUnable to start Kernel 'Python 3.12.1' due to a timeout waiting for the ports to get used. \n",
      "\u001b[1;31mView Jupyter <a href='command:jupyter.viewOutput'>log</a> for further details."
     ]
    }
   ],
   "source": [
    "new_data = Nutrients[[\"Protein\",'Category']]\n",
    "new_data\n",
    "grouped_data = new_data.groupby('Category').sum().reset_index()\n",
    "grouped_data"
   ]
  },
  {
   "cell_type": "code",
   "execution_count": null,
   "metadata": {},
   "outputs": [
    {
     "ename": "",
     "evalue": "",
     "output_type": "error",
     "traceback": [
      "\u001b[1;31mFailed to start the Kernel. \n",
      "\u001b[1;31mUnable to start Kernel 'Python 3.12.1' due to a timeout waiting for the ports to get used. \n",
      "\u001b[1;31mView Jupyter <a href='command:jupyter.viewOutput'>log</a> for further details."
     ]
    }
   ],
   "source": [
    "# List of all the categories\n",
    "Types = [\"Breads cereals fastfoodgrains\", \"Meat Poultry\",\"Desserts sweets\", \"Dairy products\", \"Fruits G-P\", \"Vegetables A-E\",\n",
    "         \"Vegetables R-Z\",\"Vegetables F-P\" \"Fruits A-F\", \"Fish Seafood\", \"Seeds and Nuts\", \"DrinksAlcohol Beverages\",\"Soups\"\n",
    "         \"Fruits R-Z\",\"Jams Jellies\"]\n",
    "\n",
    "\n",
    "Protein_types = Nutrients[Nutrients['Category'].isin(Types)]\n",
    "Protein_sort = Protein_types.sort_values(by='Protein', ascending= False)\n",
    "Protein_25 = Protein_sort.head(25)\n",
    "graph = px.bar(Protein_25, x = 'Food', y = 'Calories',color='Protein', title=' Top 25 protein rich foods')\n",
    "graph.show()"
   ]
  },
  {
   "cell_type": "markdown",
   "metadata": {},
   "source": [
    "Oyster have the most protein content with low calories. FOrtified follows the 2nd most protien content but with high calories. "
   ]
  },
  {
   "cell_type": "code",
   "execution_count": null,
   "metadata": {},
   "outputs": [
    {
     "ename": "",
     "evalue": "",
     "output_type": "error",
     "traceback": [
      "\u001b[1;31mFailed to start the Kernel. \n",
      "\u001b[1;31mUnable to start Kernel 'Python 3.12.1' due to a timeout waiting for the ports to get used. \n",
      "\u001b[1;31mView Jupyter <a href='command:jupyter.viewOutput'>log</a> for further details."
     ]
    }
   ],
   "source": [
    "Calories_types = Nutrients[Nutrients['Category'].isin(Types)]\n",
    "Calories_sort = Calories_types.sort_values(by='Calories', ascending= False)\n",
    "Calories_25 = Calories_sort.head(25)\n",
    "graph = px.bar(Calories_25, x = 'Food', y = 'Calories',color='Calories', title=' Top 25 Calories rich foods')\n",
    "graph.show()"
   ]
  },
  {
   "cell_type": "markdown",
   "metadata": {},
   "source": [
    "Fortified milk has the highest content of calories as we saw in protein graph, followed by white 20 slices. Powdered milk, nuts and almonds contain almost the same calories."
   ]
  },
  {
   "cell_type": "code",
   "execution_count": null,
   "metadata": {},
   "outputs": [
    {
     "ename": "",
     "evalue": "",
     "output_type": "error",
     "traceback": [
      "\u001b[1;31mFailed to start the Kernel. \n",
      "\u001b[1;31mUnable to start Kernel 'Python 3.12.1' due to a timeout waiting for the ports to get used. \n",
      "\u001b[1;31mView Jupyter <a href='command:jupyter.viewOutput'>log</a> for further details."
     ]
    }
   ],
   "source": [
    "Fat_types = Nutrients[Nutrients['Category'].isin(Types)]\n",
    "Fat_sort = Fat_types.sort_values(by='Fat', ascending= False)\n",
    "Fat_25 = Fat_sort.head(25)\n",
    "graph = px.bar(Fat_25, x = 'Food', y = 'Calories',color='Fat', title=' Top 25 Fat rich foods')\n",
    "graph.show()"
   ]
  },
  {
   "cell_type": "markdown",
   "metadata": {},
   "source": [
    "Oysets have the highest fat content but with low calories."
   ]
  },
  {
   "cell_type": "markdown",
   "metadata": {},
   "source": [
    "### Analyse the protein content in  (Meat and seafood) vs (Vegeatables, Fruits and Dairy products) "
   ]
  },
  {
   "cell_type": "code",
   "execution_count": null,
   "metadata": {},
   "outputs": [
    {
     "ename": "",
     "evalue": "",
     "output_type": "error",
     "traceback": [
      "\u001b[1;31mFailed to start the Kernel. \n",
      "\u001b[1;31mUnable to start Kernel 'Python 3.12.1' due to a timeout waiting for the ports to get used. \n",
      "\u001b[1;31mView Jupyter <a href='command:jupyter.viewOutput'>log</a> for further details."
     ]
    }
   ],
   "source": [
    "meat = Nutrients[Nutrients['Category'].isin([\"Meat Poultry\", \"Fish Seafood\",\"Vegetables A-E\",\n",
    "         \"Vegetables R-Z\",\"Vegetables F-P\",\"Fruits A-F\", \"Dairy produc\"])]\n",
    "# meat_sort = meat.sort_values(by='Protein', ascending=False)\n",
    "# meat_20 = meat_sort.head(20)\n",
    "\n",
    "meat_category_sum = meat.groupby(['Category']).sum()\n",
    "max_value_index = meat_category_sum['Protein'].idxmax()\n",
    "\n",
    "explode = [0.1 if i == max_value_index else 0 for i in range(len(meat_category_sum))]\n",
    "graph = go.Figure(go.Pie(values = meat_category_sum['Protein'].values, labels= meat_category_sum.index))\n",
    "graph.update_traces(hoverinfo='label+percent', hole=0.25, textfont_size=20,marker =dict(line=dict(color='#000000', width=0.5)))\n",
    "graph.show()"
   ]
  },
  {
   "cell_type": "markdown",
   "metadata": {},
   "source": [
    "Meat and Seafood contain 80% of protein as compared to total protein content from all vegetables, dairy product, fruits and Non vegetables."
   ]
  },
  {
   "cell_type": "markdown",
   "metadata": {},
   "source": [
    "Category wise distribution"
   ]
  },
  {
   "cell_type": "code",
   "execution_count": null,
   "metadata": {},
   "outputs": [
    {
     "ename": "",
     "evalue": "",
     "output_type": "error",
     "traceback": [
      "\u001b[1;31mFailed to start the Kernel. \n",
      "\u001b[1;31mUnable to start Kernel 'Python 3.12.1' due to a timeout waiting for the ports to get used. \n",
      "\u001b[1;31mView Jupyter <a href='command:jupyter.viewOutput'>log</a> for further details."
     ]
    }
   ],
   "source": [
    "categories_sort = Nutrients.groupby(['Category']).sum()\n",
    "\n",
    "graph = make_subplots(rows=2, cols= 3,specs=[[{\"type\": \"domain\"},{\"type\": \"domain\"},{\"type\": \"domain\"}],[{\"type\": \"domain\"},{\"type\": \"domain\"},{\"type\": \"domain\"}]])\n",
    "\n",
    "graph.add_trace(go.Funnelarea(\n",
    "    values=categories_sort['Protein'].values,labels=categories_sort.index,title= 'Protein',marker=dict(colors=['#f03405'], line=dict(color='#FFFFFF', width=2.5))\n",
    "), row=1, col=1 )\n",
    "graph.add_trace(go.Funnelarea(\n",
    "    values=categories_sort['Calories'].values,labels=categories_sort.index, title = 'Calories',marker=dict(line=dict(color='#FFFFFF', width=2.5))\n",
    "), row=1, col=2 )\n",
    "graph.add_trace(go.Funnelarea(\n",
    "    values=categories_sort['Fat'].values,labels=categories_sort.index, title = 'Fat',marker=dict(line=dict(color='#FFFFFF', width=2.5))\n",
    "), row=1, col=3 )\n",
    "graph.add_trace(go.Funnelarea(\n",
    "    values=categories_sort['Fiber'].values,labels=categories_sort.index,title = 'Fiber',marker=dict(line=dict(color='#FFFFFF', width=2.5))\n",
    "), row=2, col=1 )\n",
    "graph.add_trace(go.Funnelarea(\n",
    "    values=categories_sort['Carbs'].values,labels=categories_sort.index,title='Carbs',marker=dict(line=dict(color='#FFFFFF', width=2.5))\n",
    "), row=2, col=2 )\n",
    "graph.add_trace(go.Funnelarea(\n",
    "    values=categories_sort['Sat.Fat'].values,labels=categories_sort.index,title = 'Sat.Fat',marker=dict(line=dict(color='#FFFFFF', width=2.5))\n",
    "), row=2, col=3 )\n",
    "graph.update_layout(title_text=\"Nutritional Content by Category\",height=750, width=1100)\n",
    "graph.show()"
   ]
  },
  {
   "cell_type": "markdown",
   "metadata": {},
   "source": [
    "Protein is rich in Seafood and Meat, whereas Bread cereal foodgrains gives the most calories followed by dairy products.Fat oil is the biggest supplement of Fats and soups being the least. Interesting thing to see is Fat oil and seafood gives the equal amount of Fiber, For Carbs we need to go for Bread ceral foodgrains followed by Fruits and Fats Oil for Sat.Fat"
   ]
  },
  {
   "cell_type": "markdown",
   "metadata": {},
   "source": [
    "### Carbs are seen to be rich in bread cereal foodgrains and dessert, analyse the foods of them for carbs"
   ]
  },
  {
   "cell_type": "code",
   "execution_count": null,
   "metadata": {},
   "outputs": [
    {
     "ename": "",
     "evalue": "",
     "output_type": "error",
     "traceback": [
      "\u001b[1;31mFailed to start the Kernel. \n",
      "\u001b[1;31mUnable to start Kernel 'Python 3.12.1' due to a timeout waiting for the ports to get used. \n",
      "\u001b[1;31mView Jupyter <a href='command:jupyter.viewOutput'>log</a> for further details."
     ]
    }
   ],
   "source": [
    "cereal_dessert = Nutrients[Nutrients['Category'].isin(['Bread cereals fastfoodgrain', 'Desserts sweets'])]\n",
    "cereal_dessert_sort = cereal_dessert.sort_values(by ='Fat', ascending= False)\n",
    "cereal_dessert_15 = cereal_dessert_sort.head(15)\n",
    "\n",
    "graph = go.Figure(go.Scatter(x = cereal_dessert_15['Food'], y = cereal_dessert_15['Fat'],\n",
    "    marker=dict(\n",
    "        color=np.random.randn(15), colorscale='sunset', line_width=1,size = 20 )))\n",
    "graph.update_layout(title = 'High content carbs Foods')\n",
    "graph.show()"
   ]
  },
  {
   "cell_type": "markdown",
   "metadata": {},
   "source": [
    "Chocolate fudge is amongst all has the highest level of carbs present followed by cherry Pie, Ginger bread also makes the top 15 in the carbs levelin"
   ]
  },
  {
   "cell_type": "markdown",
   "metadata": {},
   "source": [
    "### 3D Graph for Category, Food and Fibers"
   ]
  },
  {
   "cell_type": "code",
   "execution_count": null,
   "metadata": {},
   "outputs": [
    {
     "ename": "",
     "evalue": "",
     "output_type": "error",
     "traceback": [
      "\u001b[1;31mFailed to start the Kernel. \n",
      "\u001b[1;31mUnable to start Kernel 'Python 3.12.1' due to a timeout waiting for the ports to get used. \n",
      "\u001b[1;31mView Jupyter <a href='command:jupyter.viewOutput'>log</a> for further details."
     ]
    }
   ],
   "source": [
    "graph = go.Figure(go.Scatter3d(\n",
    "    x = Nutrients['Category'].values, y= Nutrients['Food'].values, z= Nutrients['Fiber'].values,\n",
    "    mode = 'markers',\n",
    "    marker= dict(\n",
    "        color = Nutrients['Fiber'].values, \n",
    "        colorscale = 'hsv',\n",
    "        colorbar = dict(title = 'Fibers (Daily value)' , )\n",
    "    )) )\n",
    "graph.update_layout(height=800, width=800, title='3D Scatter Plot for Fiber ')\n",
    "graph.show()"
   ]
  },
  {
   "cell_type": "markdown",
   "metadata": {},
   "source": [
    "### Boxenplot is to show Total calories in Every category"
   ]
  },
  {
   "cell_type": "code",
   "execution_count": null,
   "metadata": {},
   "outputs": [
    {
     "ename": "",
     "evalue": "",
     "output_type": "error",
     "traceback": [
      "\u001b[1;31mFailed to start the Kernel. \n",
      "\u001b[1;31mUnable to start Kernel 'Python 3.12.1' due to a timeout waiting for the ports to get used. \n",
      "\u001b[1;31mView Jupyter <a href='command:jupyter.viewOutput'>log</a> for further details."
     ]
    }
   ],
   "source": [
    "plt.figure(figsize=(25,10))\n",
    "\n",
    "graph = sn.boxenplot(Nutrients, x= 'Category', y ='Calories', color= '#7aba47', palette= \"Set3\" , hue= 'Category')\n",
    "\n",
    "plt.title(\"Total Calorie Content \\n\", size = 25, alpha = 0.5, color = 'b')\n",
    "plt.xticks(size = 15, rotation = 45)\n",
    "plt.xlabel('Category',fontsize=20) \n",
    "plt.ylabel('Total Calories (% Daily Value)',fontsize=20)\n"
   ]
  },
  {
   "cell_type": "markdown",
   "metadata": {},
   "source": [
    "### Boxplot is to show Total Protein Content in Every Category"
   ]
  },
  {
   "cell_type": "code",
   "execution_count": null,
   "metadata": {},
   "outputs": [
    {
     "ename": "",
     "evalue": "",
     "output_type": "error",
     "traceback": [
      "\u001b[1;31mFailed to start the Kernel. \n",
      "\u001b[1;31mUnable to start Kernel 'Python 3.12.1' due to a timeout waiting for the ports to get used. \n",
      "\u001b[1;31mView Jupyter <a href='command:jupyter.viewOutput'>log</a> for further details."
     ]
    }
   ],
   "source": [
    "plt.figure(figsize=(25,12))\n",
    "\n",
    "graph = sn.boxplot(Nutrients, x= 'Category', y ='Protein', color= '#7aba47', palette= \"Set3\" , hue= 'Category')\n",
    "\n",
    "plt.title(\"Total Protein Content \\n\", size = 25, alpha = 0.5, color = 'b')\n",
    "plt.xticks(size = 15, rotation = 45)\n",
    "plt.xlabel('Category',fontsize=20) \n",
    "plt.ylabel('Total Protein (% Daily Value)',fontsize=20)\n",
    "plt.ylim(-10,100)"
   ]
  },
  {
   "cell_type": "code",
   "execution_count": null,
   "metadata": {},
   "outputs": [
    {
     "ename": "",
     "evalue": "",
     "output_type": "error",
     "traceback": [
      "\u001b[1;31mFailed to start the Kernel. \n",
      "\u001b[1;31mUnable to start Kernel 'Python 3.12.1' due to a timeout waiting for the ports to get used. \n",
      "\u001b[1;31mView Jupyter <a href='command:jupyter.viewOutput'>log</a> for further details."
     ]
    }
   ],
   "source": []
  }
 ],
 "metadata": {
  "kernelspec": {
   "display_name": "Python 3",
   "language": "python",
   "name": "python3"
  },
  "language_info": {
   "codemirror_mode": {
    "name": "ipython",
    "version": 3
   },
   "file_extension": ".py",
   "mimetype": "text/x-python",
   "name": "python",
   "nbconvert_exporter": "python",
   "pygments_lexer": "ipython3",
   "version": "3.12.1"
  }
 },
 "nbformat": 4,
 "nbformat_minor": 2
}
